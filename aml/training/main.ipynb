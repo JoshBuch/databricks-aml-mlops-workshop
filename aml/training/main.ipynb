{
  "cells": [
    {
      "cell_type": "code",
      "source": [
        "from azureml.core import Workspace, Dataset, Datastore, Experiment, Environment\r\n",
        "from azureml.core.compute import AmlCompute\r\n",
        "from azureml.pipeline.steps import PythonScriptStep\r\n",
        "from azureml.core.runconfig import RunConfiguration\r\n",
        "from azureml.pipeline.steps import PythonScriptStep\r\n",
        "from azureml.pipeline.core import PipelineParameter, StepSequence, Pipeline\r\n",
        "\r\n",
        "subscription_id = '7f7e7d61-990c-46bc-9dfd-4d6115ef04f6'\r\n",
        "resource_group = 'mlops'\r\n",
        "workspace_name = 'amlhudua'\r\n",
        "\r\n",
        "ws = Workspace(subscription_id, resource_group, workspace_name)\r\n",
        "\r\n",
        "aml_compute = AmlCompute(ws, \"test\")\r\n",
        "\r\n",
        "env = Environment('New_env_name')\r\n",
        "\r\n",
        "env.docker.base_image = 'amlacrhudua.azurecr.io/repo/private-env:v1'\r\n",
        "env.python.user_managed_dependencies = True\r\n",
        "\r\n",
        "# create a new runconfig object\r\n",
        "run_config = RunConfiguration()\r\n",
        "run_config.environment = env\r\n",
        "\r\n",
        "run_step = PythonScriptStep(script_name=\"main_script.py\",\r\n",
        "                            compute_target=aml_compute,\r\n",
        "                            source_directory='program',\r\n",
        "                            runconfig = run_config,\r\n",
        "                            allow_reuse = False)\r\n",
        "\r\n",
        "steps = StepSequence(steps = [run_step])\r\n",
        "pipeline = Pipeline(workspace=ws, steps=steps)\r\n",
        "pipeline.validate()\r\n",
        "\r\n",
        "Experiment(ws, \"PIPELINE_MAIN_Run\").submit(pipeline, regenerate_outputs=True)"
      ],
      "outputs": [
        {
          "output_type": "stream",
          "name": "stdout",
          "text": "Step main_script.py is ready to be created [98aa3378]\nCreated step main_script.py [98aa3378][24fe47b8-a6e5-4b20-83b5-8154faf8f5d6], (This step will run and generate new outputs)\nSubmitted PipelineRun c0b1cdcd-6e37-4e7e-ad29-7d9425e63833\nLink to Azure Machine Learning Portal: https://ml.azure.com/runs/c0b1cdcd-6e37-4e7e-ad29-7d9425e63833?wsid=/subscriptions/7f7e7d61-990c-46bc-9dfd-4d6115ef04f6/resourcegroups/mlops/workspaces/amlhudua&tid=343ddfdb-bef5-46d9-99cf-ed67d5948783\n"
        },
        {
          "output_type": "execute_result",
          "execution_count": 12,
          "data": {
            "text/plain": "Run(Experiment: PIPELINE_MAIN_Run,\nId: c0b1cdcd-6e37-4e7e-ad29-7d9425e63833,\nType: azureml.PipelineRun,\nStatus: Preparing)",
            "text/html": "<table style=\"width:100%\"><tr><th>Experiment</th><th>Id</th><th>Type</th><th>Status</th><th>Details Page</th><th>Docs Page</th></tr><tr><td>PIPELINE_MAIN_Run</td><td>c0b1cdcd-6e37-4e7e-ad29-7d9425e63833</td><td>azureml.PipelineRun</td><td>Preparing</td><td><a href=\"https://ml.azure.com/runs/c0b1cdcd-6e37-4e7e-ad29-7d9425e63833?wsid=/subscriptions/7f7e7d61-990c-46bc-9dfd-4d6115ef04f6/resourcegroups/mlops/workspaces/amlhudua&amp;tid=343ddfdb-bef5-46d9-99cf-ed67d5948783\" target=\"_blank\" rel=\"noopener\">Link to Azure Machine Learning studio</a></td><td><a href=\"https://docs.microsoft.com/en-us/python/api/overview/azure/ml/intro?view=azure-ml-py\" target=\"_blank\" rel=\"noopener\">Link to Documentation</a></td></tr></table>"
          },
          "metadata": {}
        }
      ],
      "execution_count": 12,
      "metadata": {
        "gather": {
          "logged": 1669962544306
        }
      }
    },
    {
      "cell_type": "code",
      "source": [
        "from azureml.core import Workspace, Dataset\r\n",
        "\r\n",
        "subscription_id = '7f7e7d61-990c-46bc-9dfd-4d6115ef04f6'\r\n",
        "resource_group = 'mlops'\r\n",
        "workspace_name = 'amlhudua'\r\n",
        "\r\n",
        "workspace = Workspace(subscription_id, resource_group, workspace_name)\r\n",
        "\r\n",
        "dataset = Dataset.get_by_name(workspace, name='sample_data2')\r\n",
        "dataset.to_pandas_dataframe()"
      ],
      "outputs": [
        {
          "output_type": "execute_result",
          "execution_count": 7,
          "data": {
            "text/plain": "          date       deviceid              window      rpm    angle  \\\n0   2019-06-30  WindTurbine-6 2019-06-30 00:00:00  7.97981  7.72249   \n1   2019-06-30  WindTurbine-6 2019-06-30 00:05:00  7.99816  7.02766   \n2   2019-06-30  WindTurbine-6 2019-06-30 00:10:00  7.84480  7.98837   \n3   2019-06-30  WindTurbine-6 2019-06-30 00:15:00  7.13407  7.73631   \n4   2019-06-30  WindTurbine-6 2019-06-30 00:20:00  7.69665  7.41497   \n..         ...            ...                 ...      ...      ...   \n995 2019-07-03  WindTurbine-6 2019-07-03 10:55:00  7.80840  7.00272   \n996 2019-07-03  WindTurbine-6 2019-07-03 11:00:00  7.53195  7.22924   \n997 2019-07-03  WindTurbine-6 2019-07-03 11:05:00  7.18805  7.25497   \n998 2019-07-03  WindTurbine-6 2019-07-03 11:10:00  7.28781  7.33990   \n999 2019-07-03  WindTurbine-6 2019-07-03 11:15:00  7.13135  7.25631   \n\n     temperature  humidity  windspeed winddirection       power  maintenance  \n0       26.33019   78.1563    7.27524             E  153.610455         True  \n1       27.68782   75.1231    7.02184             E  162.572534         True  \n2       26.62253   79.6850    7.24545             E  149.145751         True  \n3       26.06321   72.7976    7.39030            SE  148.252209         True  \n4       27.21069   70.1417    7.94662            SW  186.353841         True  \n..           ...       ...        ...           ...         ...          ...  \n995     26.71033   74.3298    7.63943            NW  168.356619        False  \n996     26.89795   77.3689    7.42346            NW  152.671319        False  \n997     27.84969   76.5206    7.68973            NW  157.999268        False  \n998     25.49011   70.7585    7.57877            SW  156.271492        False  \n999     25.22185   75.5353    7.15614            NW  133.834616        False  \n\n[1000 rows x 11 columns]",
            "text/html": "<div>\n<style scoped>\n    .dataframe tbody tr th:only-of-type {\n        vertical-align: middle;\n    }\n\n    .dataframe tbody tr th {\n        vertical-align: top;\n    }\n\n    .dataframe thead th {\n        text-align: right;\n    }\n</style>\n<table border=\"1\" class=\"dataframe\">\n  <thead>\n    <tr style=\"text-align: right;\">\n      <th></th>\n      <th>date</th>\n      <th>deviceid</th>\n      <th>window</th>\n      <th>rpm</th>\n      <th>angle</th>\n      <th>temperature</th>\n      <th>humidity</th>\n      <th>windspeed</th>\n      <th>winddirection</th>\n      <th>power</th>\n      <th>maintenance</th>\n    </tr>\n  </thead>\n  <tbody>\n    <tr>\n      <th>0</th>\n      <td>2019-06-30</td>\n      <td>WindTurbine-6</td>\n      <td>2019-06-30 00:00:00</td>\n      <td>7.97981</td>\n      <td>7.72249</td>\n      <td>26.33019</td>\n      <td>78.1563</td>\n      <td>7.27524</td>\n      <td>E</td>\n      <td>153.610455</td>\n      <td>True</td>\n    </tr>\n    <tr>\n      <th>1</th>\n      <td>2019-06-30</td>\n      <td>WindTurbine-6</td>\n      <td>2019-06-30 00:05:00</td>\n      <td>7.99816</td>\n      <td>7.02766</td>\n      <td>27.68782</td>\n      <td>75.1231</td>\n      <td>7.02184</td>\n      <td>E</td>\n      <td>162.572534</td>\n      <td>True</td>\n    </tr>\n    <tr>\n      <th>2</th>\n      <td>2019-06-30</td>\n      <td>WindTurbine-6</td>\n      <td>2019-06-30 00:10:00</td>\n      <td>7.84480</td>\n      <td>7.98837</td>\n      <td>26.62253</td>\n      <td>79.6850</td>\n      <td>7.24545</td>\n      <td>E</td>\n      <td>149.145751</td>\n      <td>True</td>\n    </tr>\n    <tr>\n      <th>3</th>\n      <td>2019-06-30</td>\n      <td>WindTurbine-6</td>\n      <td>2019-06-30 00:15:00</td>\n      <td>7.13407</td>\n      <td>7.73631</td>\n      <td>26.06321</td>\n      <td>72.7976</td>\n      <td>7.39030</td>\n      <td>SE</td>\n      <td>148.252209</td>\n      <td>True</td>\n    </tr>\n    <tr>\n      <th>4</th>\n      <td>2019-06-30</td>\n      <td>WindTurbine-6</td>\n      <td>2019-06-30 00:20:00</td>\n      <td>7.69665</td>\n      <td>7.41497</td>\n      <td>27.21069</td>\n      <td>70.1417</td>\n      <td>7.94662</td>\n      <td>SW</td>\n      <td>186.353841</td>\n      <td>True</td>\n    </tr>\n    <tr>\n      <th>...</th>\n      <td>...</td>\n      <td>...</td>\n      <td>...</td>\n      <td>...</td>\n      <td>...</td>\n      <td>...</td>\n      <td>...</td>\n      <td>...</td>\n      <td>...</td>\n      <td>...</td>\n      <td>...</td>\n    </tr>\n    <tr>\n      <th>995</th>\n      <td>2019-07-03</td>\n      <td>WindTurbine-6</td>\n      <td>2019-07-03 10:55:00</td>\n      <td>7.80840</td>\n      <td>7.00272</td>\n      <td>26.71033</td>\n      <td>74.3298</td>\n      <td>7.63943</td>\n      <td>NW</td>\n      <td>168.356619</td>\n      <td>False</td>\n    </tr>\n    <tr>\n      <th>996</th>\n      <td>2019-07-03</td>\n      <td>WindTurbine-6</td>\n      <td>2019-07-03 11:00:00</td>\n      <td>7.53195</td>\n      <td>7.22924</td>\n      <td>26.89795</td>\n      <td>77.3689</td>\n      <td>7.42346</td>\n      <td>NW</td>\n      <td>152.671319</td>\n      <td>False</td>\n    </tr>\n    <tr>\n      <th>997</th>\n      <td>2019-07-03</td>\n      <td>WindTurbine-6</td>\n      <td>2019-07-03 11:05:00</td>\n      <td>7.18805</td>\n      <td>7.25497</td>\n      <td>27.84969</td>\n      <td>76.5206</td>\n      <td>7.68973</td>\n      <td>NW</td>\n      <td>157.999268</td>\n      <td>False</td>\n    </tr>\n    <tr>\n      <th>998</th>\n      <td>2019-07-03</td>\n      <td>WindTurbine-6</td>\n      <td>2019-07-03 11:10:00</td>\n      <td>7.28781</td>\n      <td>7.33990</td>\n      <td>25.49011</td>\n      <td>70.7585</td>\n      <td>7.57877</td>\n      <td>SW</td>\n      <td>156.271492</td>\n      <td>False</td>\n    </tr>\n    <tr>\n      <th>999</th>\n      <td>2019-07-03</td>\n      <td>WindTurbine-6</td>\n      <td>2019-07-03 11:15:00</td>\n      <td>7.13135</td>\n      <td>7.25631</td>\n      <td>25.22185</td>\n      <td>75.5353</td>\n      <td>7.15614</td>\n      <td>NW</td>\n      <td>133.834616</td>\n      <td>False</td>\n    </tr>\n  </tbody>\n</table>\n<p>1000 rows × 11 columns</p>\n</div>"
          },
          "metadata": {}
        }
      ],
      "execution_count": 7,
      "metadata": {
        "jupyter": {
          "source_hidden": false,
          "outputs_hidden": false
        },
        "nteract": {
          "transient": {
            "deleting": false
          }
        },
        "gather": {
          "logged": 1669961840902
        }
      }
    },
    {
      "cell_type": "code",
      "source": [],
      "outputs": [],
      "execution_count": null,
      "metadata": {
        "jupyter": {
          "source_hidden": false,
          "outputs_hidden": false
        },
        "nteract": {
          "transient": {
            "deleting": false
          }
        }
      }
    }
  ],
  "metadata": {
    "kernelspec": {
      "name": "python38-azureml",
      "language": "python",
      "display_name": "Python 3.8 - AzureML"
    },
    "language_info": {
      "name": "python",
      "version": "3.8.5",
      "mimetype": "text/x-python",
      "codemirror_mode": {
        "name": "ipython",
        "version": 3
      },
      "pygments_lexer": "ipython3",
      "nbconvert_exporter": "python",
      "file_extension": ".py"
    },
    "kernel_info": {
      "name": "python38-azureml"
    },
    "microsoft": {
      "host": {
        "AzureML": {
          "notebookHasBeenCompleted": true
        }
      }
    },
    "nteract": {
      "version": "nteract-front-end@1.0.0"
    }
  },
  "nbformat": 4,
  "nbformat_minor": 2
}